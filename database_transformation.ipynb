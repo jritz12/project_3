{
 "cells": [
  {
   "cell_type": "code",
   "execution_count": 19,
   "metadata": {},
   "outputs": [],
   "source": [
    "import pandas as pd"
   ]
  },
  {
   "cell_type": "code",
   "execution_count": 20,
   "metadata": {},
   "outputs": [],
   "source": [
    "AQI = pd.read_csv('AQI_DB\\AQI By State 1980-2022.csv')"
   ]
  },
  {
   "cell_type": "code",
   "execution_count": 21,
   "metadata": {},
   "outputs": [],
   "source": [
    "AQI['Percent of Days Measured'] = AQI['Dys_w_AQI']/(AQI['Dys_w_AQI']+AQI['Dys_NM'])"
   ]
  },
  {
   "cell_type": "code",
   "execution_count": 22,
   "metadata": {},
   "outputs": [],
   "source": [
    "AQI.drop(['Geo_Loc'],axis=1,inplace=True)"
   ]
  },
  {
   "cell_type": "code",
   "execution_count": 23,
   "metadata": {},
   "outputs": [],
   "source": [
    "AQI['Percent of Counties Reporting'] = AQI['Cnty_Rpt']/AQI['TTL_Cnty']"
   ]
  },
  {
   "cell_type": "code",
   "execution_count": 24,
   "metadata": {},
   "outputs": [
    {
     "data": {
      "text/plain": [
       "Index(['Year', 'State', 'Pop_Est', 'TTL_Cnty', 'Cnty_Rpt', 'Dys_w_AQI',\n",
       "       'Dys_NM', 'Dys_Blw_Thr', 'Dys_Abv_Thr', 'Good Days', 'Moderate Days',\n",
       "       'Unhealthy for Sensitive Groups Days', 'Unhealthy Days',\n",
       "       'Very Unhealthy Days', 'Hazardous Days', 'Max AQI',\n",
       "       '90th Percentile AQI', 'Median AQI', 'Days CO', 'Days NO2',\n",
       "       'Days Ozone', 'Days PM2.5', 'Days PM10', 'Percent of Days Measured',\n",
       "       'Percent of Counties Reporting'],\n",
       "      dtype='object')"
      ]
     },
     "execution_count": 24,
     "metadata": {},
     "output_type": "execute_result"
    }
   ],
   "source": [
    "AQI.columns"
   ]
  },
  {
   "cell_type": "code",
   "execution_count": 25,
   "metadata": {},
   "outputs": [],
   "source": [
    "AQI['Good Days'] = AQI['Good Days']/AQI['Dys_w_AQI']\n",
    "AQI['Percent of Days Below Unhealthy'] = AQI['Dys_Blw_Thr']/AQI['Dys_w_AQI']\n",
    "AQI['Dys_Abv_Thr'] = AQI['Dys_Abv_Thr']/AQI['Dys_w_AQI']\n",
    "AQI['Unhealthy Days'] = AQI['Unhealthy Days']/AQI['Dys_w_AQI']\n",
    "AQI['Very Unhealthy Days'] = AQI['Very Unhealthy Days']/AQI['Dys_w_AQI']\n",
    "AQI['Unhealthy for Sensitive Groups Days'] = AQI['Unhealthy for Sensitive Groups Days']/AQI['Dys_w_AQI']\n",
    "AQI['Hazardous Days'] = AQI['Hazardous Days']/AQI['Dys_w_AQI']\n",
    "AQI['Moderate Days'] = AQI['Moderate Days']/AQI['Dys_w_AQI']\n",
    "AQI['Days NO2'] = AQI['Days NO2']/AQI['Dys_w_AQI']\n",
    "AQI['Days CO'] = AQI['Days CO']/AQI['Dys_w_AQI']\n",
    "AQI['Days Ozone'] = AQI['Days Ozone']/AQI['Dys_w_AQI']\n",
    "AQI['Days PM2.5'] = AQI['Days PM2.5']/AQI['Dys_w_AQI']\n",
    "AQI['Days PM10'] = AQI['Days PM10']/AQI['Dys_w_AQI']\n",
    "AQI['Max AQI'] = AQI['Max AQI']/AQI['Cnty_Rpt']\n",
    "AQI['90th Percentile AQI'] = AQI['90th Percentile AQI']/AQI['Cnty_Rpt']\n",
    "AQI['Median AQI'] = AQI['Median AQI']/AQI['Cnty_Rpt']\n",
    "AQI['Population Estimate'] = AQI['Pop_Est']"
   ]
  },
  {
   "cell_type": "code",
   "execution_count": 26,
   "metadata": {},
   "outputs": [],
   "source": [
    "AQI.fillna(0,inplace=True)"
   ]
  },
  {
   "cell_type": "code",
   "execution_count": 27,
   "metadata": {},
   "outputs": [],
   "source": [
    "AQI.to_csv('AQI_DB/AQI_Updated_db.csv',index=False)"
   ]
  }
 ],
 "metadata": {
  "kernelspec": {
   "display_name": "dev",
   "language": "python",
   "name": "python3"
  },
  "language_info": {
   "codemirror_mode": {
    "name": "ipython",
    "version": 3
   },
   "file_extension": ".py",
   "mimetype": "text/x-python",
   "name": "python",
   "nbconvert_exporter": "python",
   "pygments_lexer": "ipython3",
   "version": "3.10.13"
  }
 },
 "nbformat": 4,
 "nbformat_minor": 2
}
